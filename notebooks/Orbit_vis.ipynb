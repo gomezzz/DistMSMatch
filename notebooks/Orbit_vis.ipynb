{
 "cells": [
  {
   "cell_type": "code",
   "execution_count": null,
   "metadata": {},
   "outputs": [],
   "source": [
    "# Utility imports\n",
    "%load_ext autoreload\n",
    "%autoreload 2\n",
    "\n",
    "import sys\n",
    "sys.path.append(\"..\")\n",
    "\n",
    "import pykep as pk\n",
    "import MSMatch as mm\n",
    "import matplotlib.pyplot as plt\n",
    "import numpy as np"
   ]
  },
  {
   "cell_type": "code",
   "execution_count": null,
   "metadata": {},
   "outputs": [],
   "source": [
    "cfg=mm.load_cfg(None)\n",
    "cfg.t0 = pk.epoch_from_string(cfg.start_time)  # starting date of our simulation\n",
    "cfg.nodes = 8\n",
    "# get constellations params\n",
    "# PASEOS setup\n",
    "altitude = 786 * 1000  # altitude above the Earth's ground [m]\n",
    "inclination = 98.62  # inclination of the orbit\n",
    "nPlanes = 1 # the number of orbital planes (see linked wiki article)\n",
    "nSats = cfg.nodes # the number of satellites per orbital plane\n",
    "\n",
    "# Compute orbits of LEO satellites\n",
    "planet_list,sats_pos_and_v = mm.get_constellation(altitude,inclination,nSats,nPlanes,cfg.t0)"
   ]
  },
  {
   "cell_type": "code",
   "execution_count": null,
   "metadata": {},
   "outputs": [],
   "source": [
    "logger_level = \"INFO\"\n",
    "logger = mm.get_logger(cfg.save_dir, logger_level)"
   ]
  },
  {
   "cell_type": "code",
   "execution_count": null,
   "metadata": {},
   "outputs": [],
   "source": [
    "from mpi4py import MPI\n",
    "nodes,actors = [],[]\n",
    "for rank in range(cfg.nodes):\n",
    "    comm = MPI.COMM_WORLD\n",
    "    node = mm.SpaceCraftNode(sats_pos_and_v[rank], cfg, None, rank, comm)\n",
    "    nodes.append(node)\n",
    "    actors.append(node.paseos.local_actor)"
   ]
  },
  {
   "cell_type": "code",
   "execution_count": null,
   "metadata": {},
   "outputs": [],
   "source": [
    "positions = []\n",
    "for actor in actors:\n",
    "    positions.append(actor.get_position(cfg.t0))"
   ]
  },
  {
   "cell_type": "code",
   "execution_count": null,
   "metadata": {},
   "outputs": [],
   "source": [
    "# Ground stations\n",
    "from paseos import ActorBuilder, GroundstationActor,SpacecraftActor\n",
    "stations = [\n",
    "    [\"Maspalomas\", 27.7629, -15.6338, 205.1],\n",
    "    [\"Matera\", 40.6486, 16.7046, 536.9],\n",
    "    [\"Svalbard\", 78.9067, 11.8883, 474.0],\n",
    "]\n",
    "groundstation_actors = []\n",
    "for station in stations:\n",
    "    gs_actor = ActorBuilder.get_actor_scaffold(\n",
    "        name=station[0], actor_type=GroundstationActor, epoch=cfg.t0\n",
    "    )\n",
    "    ActorBuilder.set_ground_station_location(\n",
    "        gs_actor,\n",
    "        latitude=station[1],\n",
    "        longitude=station[2],\n",
    "        elevation=station[3],\n",
    "        minimum_altitude_angle=5,\n",
    "    )\n",
    "    # paseos_instance.add_known_actor(gs_actor)\n",
    "    groundstation_actors.append(gs_actor)"
   ]
  },
  {
   "cell_type": "code",
   "execution_count": null,
   "metadata": {},
   "outputs": [],
   "source": [
    "geosat = ActorBuilder.get_actor_scaffold(\"EDRS-C\", SpacecraftActor, epoch=cfg.t0)\n",
    "\n",
    "altitude =  35786 * 1000  # altitude above the Earth's ground [m]\n",
    "inclination = 0.  # inclination of the orbit\n",
    "nPlanes = 1 # the number of orbital planes (see linked wiki article)\n",
    "nSats = 1 # the number of satellites per orbital plane\n",
    "t0 = cfg.t0\n",
    "\n",
    "# Compute orbits of LEO satellites\n",
    "planet_list,sats_pos_and_v = mm.get_constellation(altitude,inclination,nSats,nPlanes,t0,startingW=31)\n",
    "earth = pk.planet.jpl_lp(\"earth\")\n",
    "ActorBuilder.set_orbit(geosat,sats_pos_and_v[0][0],sats_pos_and_v[0][1],t0,earth)"
   ]
  },
  {
   "cell_type": "code",
   "execution_count": null,
   "metadata": {},
   "outputs": [],
   "source": [
    "tX,tY,tZ = [],[],[]\n",
    "N = 600\n",
    "for n in range(N):\n",
    "    pos = actors[0].get_position(pk.epoch(t0.mjd2000 + pk.SEC2DAY * n * 10))\n",
    "    tX.append(pos[0])\n",
    "    tY.append(pos[1])\n",
    "    tZ.append(pos[2])"
   ]
  },
  {
   "cell_type": "code",
   "execution_count": null,
   "metadata": {},
   "outputs": [],
   "source": [
    "with plt.style.context(\"dark_background\"):\n",
    "    ax = plt.figure(figsize=(4, 4),dpi=300).add_subplot(111,projection='3d',facecolor=\"black\",computed_zorder=False)\n",
    "    ax.view_init(elev=0, azim=300)\n",
    "    \n",
    "    # Get rid of the panes\n",
    "    ax.xaxis.set_pane_color((1.0, 1.0, 1.0, 0.0))\n",
    "    ax.yaxis.set_pane_color((1.0, 1.0, 1.0, 0.0))\n",
    "    ax.zaxis.set_pane_color((1.0, 1.0, 1.0, 0.0))\n",
    "\n",
    "    # Get rid of the spines\n",
    "    ax.xaxis.line.set_color((1.0, 1.0, 1.0, 0.0))\n",
    "    ax.yaxis.line.set_color((1.0, 1.0, 1.0, 0.0))\n",
    "    ax.zaxis.line.set_color((1.0, 1.0, 1.0, 0.0))\n",
    "    ax.get_xaxis().set_ticks([])\n",
    "    ax.get_yaxis().set_ticks([])\n",
    "    ax.get_zaxis().set_ticks([])\n",
    "\n",
    "    # load bluemarble with PIL\n",
    "    import PIL\n",
    "    R = 6371000\n",
    "    stride = 4\n",
    "    offset = 3e5\n",
    "    offset = 1e6\n",
    "\n",
    "    if offset == 1e6:\n",
    "        fontsize = 10\n",
    "    else:\n",
    "        fontsize = 12\n",
    "\n",
    "    bm = PIL.Image.open('bluemarble_med.png')\n",
    "    # it's big, so I'll rescale it, convert to array, and divide by 256 to get RGB values that matplotlib accept \n",
    "    # bm = np.array(bm.resize([int(d) for d in bm.size]))/256.\n",
    "    bm = np.array(bm) / 256\n",
    "\n",
    "    # coordinates of the image - don't know if this is entirely accurate, but probably close\n",
    "    lons = np.linspace(-180, 180, bm.shape[1]) * np.pi/180 \n",
    "    lats = np.linspace(-90, 90, bm.shape[0])[::-1] * np.pi/180 \n",
    "\n",
    "    x = np.outer(np.cos(lons+30.45), np.cos(lats)).T\n",
    "    y = np.outer(np.sin(lons+30.45), np.cos(lats)).T\n",
    "    z = np.outer(np.ones(np.size(lons)), np.sin(lats)).T\n",
    "    ax.plot_surface(R*x, R*y, R*z, rstride=stride, cstride=stride, \n",
    "                    facecolors = bm,linewidth=0,alpha=1.0,zorder=0)\n",
    "\n",
    "    pos = geosat.get_position(t0)\n",
    "    ax.scatter(pos[0],pos[1],pos[2],color=\"cyan\",marker=\"d\",zorder=20)\n",
    "    # Write text labels\n",
    "    ax.text(pos[0]+offset,pos[1],pos[2],geosat.name,fontsize=fontsize,ha=\"left\",va=\"center\",zorder=30)\n",
    "\n",
    "    for pos,actor in zip(positions,actors):\n",
    "        ax.scatter(pos[0],pos[1],pos[2],color=\"white\",marker=\"d\", s=2).set_zorder(10)\n",
    "        ax.text(pos[0]+offset,pos[1],pos[2],actor.name,fontsize=fontsize,ha=\"left\",va=\"center\")\n",
    "\n",
    "    # for gs in groundstation_actors:\n",
    "    #     pos = gs.get_position(t0)\n",
    "    #     ax.scatter(pos[0],pos[1],pos[2],color=\"red\",zorder=20)\n",
    "    #     # Write text labels\n",
    "    #     ax.text(pos[0]+offset,pos[1],pos[2],gs.name,fontsize=fontsize,ha=\"left\",va=\"center\",zorder=30)\n",
    "\n",
    "\n",
    "    if offset == 1e6:\n",
    "        ax.set_xlim(1.5e7,1.55e7)\n",
    "        ax.set_ylim(1.5e7,1.55e7)\n",
    "        ax.set_zlim(-1.0e7,1.55e7)\n",
    "    else:\n",
    "        ax.set_xlim(-4.5e6,4.5e6)\n",
    "        ax.set_ylim(-4.5e6,4.5e6)\n",
    "        ax.set_zlim(-4.5e6,4.5e6)\n",
    "\n",
    "    ax.plot(tX,tY,tZ,zorder=10,linestyle=\"--\",linewidth=1,alpha=0.5)\n",
    "    ax.set_aspect(\"equal\")\n",
    "\n",
    "    \n",
    "\n",
    "     # Write text labels\n",
    "    plt.annotate(t0,xy=(0.01, 0.01),xycoords=\"figure fraction\",)\n",
    "    plt.annotate(f\"t={nodes[0].paseos._state.time:<10.2e}\",xy=(0.99, 0.01),xycoords=\"figure fraction\",horizontalalignment=\"right\",zorder=30)\n",
    "\n",
    "    plt.show()"
   ]
  },
  {
   "cell_type": "code",
   "execution_count": null,
   "metadata": {},
   "outputs": [],
   "source": []
  }
 ],
 "metadata": {
  "kernelspec": {
   "display_name": "Python 3",
   "language": "python",
   "name": "python3"
  },
  "language_info": {
   "codemirror_mode": {
    "name": "ipython",
    "version": 3
   },
   "file_extension": ".py",
   "mimetype": "text/x-python",
   "name": "python",
   "nbconvert_exporter": "python",
   "pygments_lexer": "ipython3",
   "version": "3.10.10"
  },
  "orig_nbformat": 4,
  "vscode": {
   "interpreter": {
    "hash": "358bc857331bb613572dc0815176beebf9dc7b48105aaa7bacb21a2c5626dd13"
   }
  }
 },
 "nbformat": 4,
 "nbformat_minor": 2
}
