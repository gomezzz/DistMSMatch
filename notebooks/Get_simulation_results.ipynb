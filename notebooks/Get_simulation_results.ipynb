{
 "cells": [
  {
   "cell_type": "markdown",
   "metadata": {},
   "source": [
    "# Get simulation results. "
   ]
  },
  {
   "cell_type": "markdown",
   "metadata": {},
   "source": [
    "This notebook automatically collect and plot accuracy vs numlabels graphs for best and latest models for `efficientnet-lite0` and `unet` networks. Results are saved as `PNG` images."
   ]
  },
  {
   "cell_type": "markdown",
   "metadata": {},
   "source": [
    "## 1) Imports."
   ]
  },
  {
   "cell_type": "code",
   "execution_count": null,
   "metadata": {},
   "outputs": [],
   "source": [
    "# Utility imports\n",
    "%load_ext autoreload\n",
    "%autoreload 2\n",
    "import matplotlib.pyplot as plt\n",
    "import os\n",
    "from glob import glob\n",
    "import sys\n",
    "sys.path.append(\"..\")\n",
    "\n",
    "# Main imports\n",
    "import torch\n",
    "import MSMatch as mm\n",
    "from MSMatch.utils.load_cfg import load_cfg\n",
    "from termcolor import colored\n",
    "plt.rcParams['figure.figsize'] = [10, 10]"
   ]
  },
  {
   "cell_type": "code",
   "execution_count": null,
   "metadata": {
    "tags": [
     "parameters"
    ]
   },
   "outputs": [],
   "source": [
    "simulation_path=\"./saved_models/test\"\n",
    "dataset=\"eurosat_rgb\"\n",
    "cfg_path=\"../cfgs\""
   ]
  },
  {
   "cell_type": "markdown",
   "metadata": {},
   "source": [
    "## 2) Getting configurations"
   ]
  },
  {
   "cell_type": "code",
   "execution_count": null,
   "metadata": {},
   "outputs": [],
   "source": [
    "print(\"Parsing simulation dir: \"+colored(os.path.join(simulation_path,dataset), \"red\"))\n",
    "simulation_dirs=sorted(glob(os.path.join(simulation_path,dataset, \"*\")))\n",
    "print(\"Number of tests found: \", colored(len(simulation_dirs), \"red\"))\n",
    "cfg_config=[]\n",
    "cfg_names=[]\n",
    "for path in simulation_dirs:\n",
    "    numlabels=int(path[path.find(\"numlabels\")+9:path.find(\"numlabels\")+9+path[path.find(\"numlabels\")+9:].find(\"_\")])\n",
    "    net=path[path.find(\"arch\")+4:path.find(\"arch\")+4+path[path.find(\"arch\")+4:].find(\"_\")]\n",
    "    cfg_config.append([numlabels, net,os.path.join(cfg_path, \"cfg_\"+net+\"_\"+str(numlabels)+\".toml\")])\n",
    "    cfg_names.append(\"cfg_\"+net+\"_\"+str(numlabels)+\".toml\")\n",
    "    \n",
    "cfg_dict=dict(zip(cfg_names, cfg_config))\n"
   ]
  },
  {
   "cell_type": "markdown",
   "metadata": {},
   "source": [
    "## 3) Loading and testing trained models"
   ]
  },
  {
   "cell_type": "code",
   "execution_count": null,
   "metadata": {},
   "outputs": [],
   "source": [
    "# Creating empty dictionaries for best and latest models\n",
    "simulation_points=[50,100,200]\n",
    "unet_best=dict(zip(simulation_points, [0 for n in simulation_points]))\n",
    "unet_latest=dict(zip(simulation_points, [0 for n in simulation_points]))\n",
    "efficientnet_best=dict(zip(simulation_points, [0 for n in simulation_points]))\n",
    "efficientnet_latest=dict(zip(simulation_points, [0 for n in simulation_points]))\n",
    "\n",
    "\n",
    "# This variable is used to avoid to load the dataset if it has the same seed of the previous run.\n",
    "last_seed=-1\n",
    "\n",
    "\n",
    "#Testing trained models\n",
    "for cfg_name, n in zip(cfg_names, range(len(cfg_names))):\n",
    "\n",
    "    print(colored(\"\\n--- Inspecting: \"+simulation_dirs[n]+\" ---\", \"blue\"))\n",
    "\n",
    "    #Loading dataset\n",
    "    cfg=load_cfg(cfg_dict[cfg_name][2])\n",
    "    \n",
    "    if last_seed != cfg.seed:\n",
    "        print(\"Loading dataset: \"+colored(dataset,\"green\"))\n",
    "        _eval_dset = mm.SSL_Dataset(name=dataset, train=False, data_dir=None, seed=cfg.seed,)\n",
    "        eval_dset = _eval_dset.get_dset()\n",
    "        eval_loader = mm.get_data_loader(eval_dset, 32, num_workers=1)\n",
    "        last_seed=cfg.seed\n",
    "\n",
    "    cfg.num_classes = _eval_dset.num_classes\n",
    "    cfg.num_channels = _eval_dset.num_channels\n",
    "    \n",
    "    \n",
    "    print(\"Loading model: \"+colored(cfg_dict[cfg_name][1],\"red\"))\n",
    "    net_builder = mm.get_net_builder(cfg.net,pretrained=cfg.pretrained, in_channels=cfg.num_channels, scale=cfg.scale)\n",
    "    net = net_builder(num_classes=cfg.num_classes, in_channels=cfg.num_channels)\n",
    "    \n",
    "    for model_type in [\"latest_model.pth\", \"model_best.pth\"]:\n",
    "        print(\"Model type: \"+colored(model_type, \"cyan\"))\n",
    "        net.load_state_dict(torch.load(os.path.join(simulation_dirs[n], model_type))[\"eval_model\"])\n",
    "        if torch.cuda.is_available():\n",
    "            net.cuda()\n",
    "        net.eval() \n",
    "    \n",
    "        acc = 0.0\n",
    "        with torch.no_grad():\n",
    "            for image, target in eval_loader:\n",
    "                if torch.cuda.is_available():\n",
    "                    image = image.type(torch.FloatTensor).cuda()\n",
    "                logit = net(image)\n",
    "    \n",
    "                acc += logit.cpu().max(1)[1].eq(target).sum().numpy()\n",
    "    \n",
    "        acc=acc/len(eval_dset)\n",
    "        print(f\"Test Accuracy: {acc}\")\n",
    "        \n",
    "        if cfg_dict[cfg_name][1] == \"efficientnet-lite0\":\n",
    "            if model_type == \"latest_model.pth\":\n",
    "                efficientnet_latest[cfg_dict[cfg_name][0]]=acc * 100\n",
    "            else:\n",
    "                efficientnet_best[cfg_dict[cfg_name][0]]=acc * 100\n",
    "        else:\n",
    "            if model_type == \"latest_model.pth\":\n",
    "                unet_best[cfg_dict[cfg_name][0]]=acc * 100\n",
    "            else:\n",
    "                unet_latest[cfg_dict[cfg_name][0]]=acc * 100"
   ]
  },
  {
   "cell_type": "markdown",
   "metadata": {},
   "source": [
    "## 4) Plotting models"
   ]
  },
  {
   "cell_type": "markdown",
   "metadata": {},
   "source": [
    "### Best models"
   ]
  },
  {
   "cell_type": "code",
   "execution_count": null,
   "metadata": {},
   "outputs": [],
   "source": [
    "fig_best=plt.figure(figsize=(10,10))"
   ]
  },
  {
   "cell_type": "code",
   "execution_count": null,
   "metadata": {},
   "outputs": [],
   "source": [
    "# Getting values from dictionary.\n",
    "efficientnet_best_values=[efficientnet_best[x] for x in efficientnet_best.keys()]\n",
    "unet_best_values=[unet_best[x] for x in unet_best.keys()]\n",
    "\n",
    "f = plt.figure()\n",
    "f.set_figwidth(10)\n",
    "f.set_figheight(10)\n",
    "\n",
    "plt_ef = plt.plot(simulation_points, efficientnet_best_values, linestyle=\":\")\n",
    "stem_ef = plt.plot(simulation_points, efficientnet_best_values, 'ro')\n",
    "plt_unet= plt.plot(simulation_points, unet_best_values, linestyle=\":\")\n",
    "stem_unet = plt.plot(simulation_points, unet_best_values, 'k*')\n",
    "\n",
    " \n",
    "for (x,n) in zip(efficientnet_best_values, range(len(efficientnet_best_values))): \n",
    "    if n==0:\n",
    "        plt.annotate(\"{:.2f}\".format(x), xy=(simulation_points[n], x), xytext=(simulation_points[n], x+0.55))\n",
    "    elif n == len(efficientnet_best_values) - 1:\n",
    "        plt.annotate(\"{:.2f}\".format(x), xy=(simulation_points[n], x), xytext=(simulation_points[n]-8, x-0.55))\n",
    "    else:\n",
    "        plt.annotate(\"{:.2f}\".format(x), xy=(simulation_points[n], x), xytext=(simulation_points[n], x-0.55))\n",
    "\n",
    "for (x,n) in zip(unet_best_values, range(len(unet_best_values))): \n",
    "    if n==0:\n",
    "        plt.annotate(\"{:.2f}\".format(x), xy=(simulation_points[n], x), xytext=(simulation_points[n], x+0.55))\n",
    "    elif n == len(unet_best_values) - 1:\n",
    "        plt.annotate(\"{:.2f}\".format(x), xy=(simulation_points[n], x), xytext=(simulation_points[n]-8, x-0.55))\n",
    "    else:\n",
    "        plt.annotate(\"{:.2f}\".format(x), xy=(simulation_points[n], x), xytext=(simulation_points[n], x-0.55))\n",
    "\n",
    "plt.xlabel(\"numlabels\")\n",
    "plt.ylabel('accuracy [%]')\n",
    "plt.legend([\"efficientnet_lite0\", \"efficientnet_lite0\", \"unet\", 'unet'])\n",
    "plt.title(\"Best models: Accuracy vs Numlabels\")\n",
    "plt.savefig(\"best.png\")"
   ]
  },
  {
   "cell_type": "markdown",
   "metadata": {},
   "source": [
    "### Latest models"
   ]
  },
  {
   "cell_type": "code",
   "execution_count": null,
   "metadata": {},
   "outputs": [],
   "source": [
    "# Getting values from dictionary.\n",
    "efficientnet_latest_values=[efficientnet_latest[x] for x in efficientnet_latest.keys()]\n",
    "unet_latest_values=[unet_latest[x] for x in unet_latest.keys()]\n",
    "\n",
    "plt.close()\n",
    "f = plt.figure()\n",
    "f.set_figwidth(10)\n",
    "f.set_figheight(10)\n",
    "plt_ef = plt.plot(simulation_points, efficientnet_latest_values, linestyle=\":\")\n",
    "stem_ef = plt.plot(simulation_points, efficientnet_latest_values, 'ro')\n",
    "plt_unet= plt.plot(simulation_points, unet_latest_values, linestyle=\":\")\n",
    "stem_unet = plt.plot(simulation_points, unet_latest_values, 'k*')\n",
    "\n",
    "\n",
    "for (x,n) in zip(efficientnet_latest_values, range(len(efficientnet_latest_values))): \n",
    "    if n==0:\n",
    "        plt.annotate(\"{:.2f}\".format(x), xy=(simulation_points[n], x), xytext=(simulation_points[n], x+0.55))\n",
    "    elif n == len(efficientnet_latest_values) - 1:\n",
    "        plt.annotate(\"{:.2f}\".format(x), xy=(simulation_points[n], x), xytext=(simulation_points[n]-8, x-0.55))\n",
    "    else:\n",
    "        plt.annotate(\"{:.2f}\".format(x), xy=(simulation_points[n], x), xytext=(simulation_points[n], x-0.55))\n",
    "\n",
    "for (x,n) in zip(unet_latest_values, range(len(unet_latest_values))): \n",
    "    if n==0:\n",
    "        plt.annotate(\"{:.2f}\".format(x), xy=(simulation_points[n], x), xytext=(simulation_points[n], x+0.55))\n",
    "    elif n == len(unet_latest_values) - 1:\n",
    "        plt.annotate(\"{:.2f}\".format(x), xy=(simulation_points[n], x), xytext=(simulation_points[n]-8, x-0.55))\n",
    "    else:\n",
    "        plt.annotate(\"{:.2f}\".format(x), xy=(simulation_points[n], x), xytext=(simulation_points[n], x-0.55))\n",
    "\n",
    "plt.xlabel(\"numlabels\")\n",
    "plt.ylabel('accuracy [%]')\n",
    "plt.legend([\"efficientnet_lite0\", \"efficientnet_lite0\", \"unet\", 'unet'])\n",
    "plt.title(\"Latest models: Accuracy vs Numlabels\")\n",
    "plt.savefig(\"latest.png\")"
   ]
  },
  {
   "cell_type": "code",
   "execution_count": null,
   "metadata": {},
   "outputs": [],
   "source": []
  }
 ],
 "metadata": {
  "celltoolbar": "Tags",
  "kernelspec": {
   "display_name": "Python 3.9.13 ('distmsmatch': conda)",
   "language": "python",
   "name": "python3"
  },
  "language_info": {
   "codemirror_mode": {
    "name": "ipython",
    "version": 3
   },
   "file_extension": ".py",
   "mimetype": "text/x-python",
   "name": "python",
   "nbconvert_exporter": "python",
   "pygments_lexer": "ipython3",
   "version": "3.9.13"
  },
  "vscode": {
   "interpreter": {
    "hash": "02097f04555db16cddcaea3ebf1022514f04cb201e9f7714c3809f04151e31cf"
   }
  }
 },
 "nbformat": 4,
 "nbformat_minor": 2
}
