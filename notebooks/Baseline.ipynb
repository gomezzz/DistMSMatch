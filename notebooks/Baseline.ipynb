{
 "cells": [
  {
   "cell_type": "code",
   "execution_count": null,
   "id": "d26e8986",
   "metadata": {},
   "outputs": [],
   "source": [
    "%load_ext autoreload\n",
    "%autoreload 2\n",
    "import os, sys\n",
    "sys.path.append(\"..\")\n",
    "import random\n",
    "from dotmap import DotMap\n",
    "\n",
    "import numpy as np\n",
    "import torch\n",
    "import torch.nn.parallel\n",
    "import torch.backends.cudnn as cudnn\n",
    "\n",
    "from MSMatch.utils import net_builder, get_logger, count_parameters, create_dir_str\n",
    "from MSMatch.train_utils import TBLog, get_OPT, get_cosine_schedule_with_warmup\n",
    "from MSMatch.models.fixmatch.FixMatch import FixMatch\n",
    "from MSMatch.datasets.SSL_Dataset import SSL_Dataset\n",
    "from MSMatch.datasets.data_utils import get_data_loader"
   ]
  },
  {
   "cell_type": "code",
   "execution_count": null,
   "id": "3d8590b1",
   "metadata": {},
   "outputs": [],
   "source": [
    "cfg = DotMap(_dynamic = False)\n",
    "cfg.dataset = \"eurosat_rgb\"\n",
    "cfg.net = \"unet\"\n",
    "cfg.batch_size = 32\n",
    "cfg.p_cutoff = 0.95\n",
    "cfg.lr = 0.02\n",
    "cfg.uratio = 7\n",
    "cfg.weight_decay = 7.5e-4\n",
    "cfg.ulb_loss_ratio = 1.0\n",
    "cfg.seed = 42\n",
    "cfg.num_labels = 100\n",
    "cfg.opt = \"SGD\"\n",
    "cfg.pretrained = False\n",
    "cfg.save_dir = \"./saved_models\"\n",
    "cfg.save_name = \"test\"\n",
    "cfg.ema_m = 0.999\n",
    "cfg.bn_momentum = 1.0 - cfg.ema_m\n",
    "cfg.eval_batch_size = 1024\n",
    "cfg.momentum = 0.9\n",
    "cfg.T = 0.5\n",
    "cfg.amp = False\n",
    "cfg.hard_label = True\n",
    "cfg.multiprocessing_distributed = False\n",
    "cfg.num_eval_iter = 1000\n",
    "\n",
    "# random seed has to be set for the syncronization of labeled data sampling in each process.\n",
    "random.seed(cfg.seed)\n",
    "torch.manual_seed(cfg.seed)\n",
    "np.random.seed(cfg.seed)\n",
    "cudnn.deterministic = True\n",
    "\n",
    "# SET save_path and logger\n",
    "dir_name = create_dir_str(cfg)\n",
    "cfg.save_name = os.path.join(cfg.save_name, dir_name)\n",
    "save_path = os.path.join(cfg.save_dir, cfg.save_name)\n",
    "tb_log = TBLog(save_path, \"\")\n",
    "logger_level = \"INFO\"\n",
    "logger = get_logger(cfg.save_name, save_path, logger_level)"
   ]
  },
  {
   "cell_type": "code",
   "execution_count": null,
   "id": "c9533969",
   "metadata": {},
   "outputs": [],
   "source": [
    "# Construct Dataset\n",
    "train_dset = SSL_Dataset(\n",
    "    name=cfg.dataset, train=True, data_dir=None, seed=cfg.seed,\n",
    ")\n",
    "lb_dset, ulb_dset = train_dset.get_ssl_dset(cfg.num_labels)\n",
    "\n",
    "cfg.num_classes = train_dset.num_classes\n",
    "cfg.num_channels = train_dset.num_channels\n",
    "\n",
    "_eval_dset = SSL_Dataset(\n",
    "    name=cfg.dataset, train=False, data_dir=None, seed=cfg.seed,\n",
    ")\n",
    "eval_dset = _eval_dset.get_dset()"
   ]
  },
  {
   "cell_type": "code",
   "execution_count": null,
   "id": "5b55c315",
   "metadata": {},
   "outputs": [],
   "source": [
    "_net_builder = net_builder(\n",
    "    cfg.net,\n",
    "    pretrained=cfg.pretrained,\n",
    "    in_channels=cfg.num_channels,\n",
    ")"
   ]
  },
  {
   "cell_type": "code",
   "execution_count": null,
   "id": "ee210e57",
   "metadata": {},
   "outputs": [],
   "source": [
    "model = FixMatch(\n",
    "        _net_builder,\n",
    "        cfg.num_classes,\n",
    "        cfg.num_channels,\n",
    "        cfg.ema_m,\n",
    "        T=0.5,\n",
    "        p_cutoff=cfg.p_cutoff,\n",
    "        lambda_u=cfg.ulb_loss_ratio,\n",
    "        hard_label=True,\n",
    "        num_eval_iter=cfg.num_eval_iter,\n",
    "        tb_log=tb_log,\n",
    "        logger=logger,\n",
    "    )\n",
    "logger.info(f\"Number of Trainable Params: {count_parameters(model.train_model)}\")"
   ]
  },
  {
   "cell_type": "code",
   "execution_count": null,
   "id": "a1180564",
   "metadata": {},
   "outputs": [],
   "source": [
    "cfg.epoch = 10\n",
    "cfg.num_train_iter = cfg.epoch * cfg.num_eval_iter * 32 // cfg.batch_size"
   ]
  },
  {
   "cell_type": "code",
   "execution_count": null,
   "id": "2e7b1e6f",
   "metadata": {},
   "outputs": [],
   "source": [
    "optimizer = get_OPT(\n",
    "    model.train_model, cfg.opt, cfg.lr, cfg.momentum, cfg.weight_decay\n",
    ")\n",
    "scheduler = get_cosine_schedule_with_warmup(\n",
    "    optimizer, cfg.num_train_iter, num_warmup_steps=cfg.num_train_iter * 0\n",
    ")\n",
    "model.set_optimizer(optimizer, scheduler)\n",
    "if torch.cuda.is_available():\n",
    "    cfg.gpu = 0\n",
    "    torch.cuda.set_device(cfg.gpu)\n",
    "    model.train_model = model.train_model.cuda(cfg.gpu)\n",
    "    model.eval_model = model.eval_model.cuda(cfg.gpu)\n",
    "\n",
    "logger.info(f\"model_arch: {model}\")\n",
    "logger.info(f\"Arguments: {cfg}\")"
   ]
  },
  {
   "cell_type": "code",
   "execution_count": null,
   "id": "9e096708",
   "metadata": {},
   "outputs": [],
   "source": [
    "# Construct data loader\n",
    "loader_dict = {}\n",
    "dset_dict = {\"train_lb\": lb_dset, \"train_ulb\": ulb_dset, \"eval\": eval_dset}\n",
    "\n",
    "loader_dict[\"train_lb\"] = get_data_loader(\n",
    "    dset_dict[\"train_lb\"],\n",
    "    cfg.batch_size,\n",
    "    data_sampler=\"RandomSampler\",\n",
    "    num_iters=cfg.num_train_iter,\n",
    "    num_workers=1,\n",
    "    distributed=False,\n",
    ")\n",
    "\n",
    "loader_dict[\"train_ulb\"] = get_data_loader(\n",
    "    dset_dict[\"train_ulb\"],\n",
    "    cfg.batch_size * cfg.uratio,\n",
    "    data_sampler=\"RandomSampler\",\n",
    "    num_iters=cfg.num_train_iter,\n",
    "    num_workers=4,\n",
    "    distributed=False,\n",
    ")\n",
    "\n",
    "loader_dict[\"eval\"] = get_data_loader(\n",
    "    dset_dict[\"eval\"], cfg.eval_batch_size, num_workers=1\n",
    ")\n",
    "\n",
    "## set DataLoader on FixMatch\n",
    "model.set_data_loader(loader_dict)"
   ]
  },
  {
   "cell_type": "code",
   "execution_count": null,
   "id": "464f04bb",
   "metadata": {},
   "outputs": [],
   "source": [
    "trainer = model.train\n",
    "print(cfg)\n",
    "\n",
    "for epoch in range(cfg.epoch):\n",
    "    print(epoch)\n",
    "    trainer(cfg)"
   ]
  },
  {
   "cell_type": "code",
   "execution_count": null,
   "id": "5ec5c830",
   "metadata": {},
   "outputs": [],
   "source": [
    "model.save_model(\"latest_model.pth\", save_path)"
   ]
  }
 ],
 "metadata": {
  "kernelspec": {
   "display_name": "Python 3 (ipykernel)",
   "language": "python",
   "name": "python3"
  },
  "language_info": {
   "codemirror_mode": {
    "name": "ipython",
    "version": 3
   },
   "file_extension": ".py",
   "mimetype": "text/x-python",
   "name": "python",
   "nbconvert_exporter": "python",
   "pygments_lexer": "ipython3",
   "version": "3.8.13"
  },
  "vscode": {
   "interpreter": {
    "hash": "358bc857331bb613572dc0815176beebf9dc7b48105aaa7bacb21a2c5626dd13"
   }
  }
 },
 "nbformat": 4,
 "nbformat_minor": 5
}
