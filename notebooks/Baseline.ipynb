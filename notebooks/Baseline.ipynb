{
 "cells": [
  {
   "cell_type": "code",
   "execution_count": null,
   "id": "5cea9462",
   "metadata": {},
   "outputs": [],
   "source": [
    "%load_ext autoreload\n",
    "%autoreload 2\n",
    "import os, sys\n",
    "sys.path.append(\"..\")\n",
    "import logging\n",
    "import random\n",
    "from dotmap import DotMap\n",
    "\n",
    "import numpy as np\n",
    "import torch\n",
    "import torch.nn.parallel\n",
    "import torch.backends.cudnn as cudnn"
   ]
  },
  {
   "cell_type": "code",
   "execution_count": null,
   "id": "b33d7082",
   "metadata": {},
   "outputs": [],
   "source": [
    "from MSMatch.utils import net_builder, get_logger, count_parameters, create_dir_str\n",
    "from MSMatch.train_utils import TBLog, get_OPT, get_cosine_schedule_with_warmup\n",
    "from MSMatch.models.fixmatch.FixMatch import FixMatch\n",
    "from MSMatch.datasets.SSL_Dataset import SSL_Dataset\n",
    "from MSMatch.datasets.data_utils import get_data_loader"
   ]
  },
  {
   "cell_type": "code",
   "execution_count": null,
   "id": "8a5c096f",
   "metadata": {},
   "outputs": [],
   "source": [
    "cfg = DotMap()\n",
    "cfg.dataset = \"eurosat_rgb\"\n",
    "cfg.net = \"unet\"\n",
    "cfg.batch_size = 4\n",
    "cfg.p_cutoff = 0.95\n",
    "cfg.lr = 0.03\n",
    "cfg.uratio = 7\n",
    "cfg.weight_decay = 5e-4\n",
    "cfg.ulb_loss_ratio = 1.0\n",
    "cfg.seed = 42\n",
    "cfg.num_labels = 100\n",
    "cfg.opt = \"SGD\"\n",
    "cfg.pretrained = False\n",
    "cfg.save_dir = \"./saved_models\"\n",
    "cfg.save_name = \"test\"\n",
    "cfg.ema_m = 0.999\n",
    "\n",
    "cfg.momentum = 0.9"
   ]
  },
  {
   "cell_type": "code",
   "execution_count": null,
   "id": "2a86ee1a",
   "metadata": {},
   "outputs": [],
   "source": [
    "dir_name = create_dir_str(cfg)\n",
    "cfg.save_name = os.path.join(cfg.save_name, dir_name)\n",
    "save_path = os.path.join(cfg.save_dir, cfg.save_name)"
   ]
  },
  {
   "cell_type": "code",
   "execution_count": null,
   "id": "b93699ca",
   "metadata": {},
   "outputs": [],
   "source": [
    "# random seed has to be set for the syncronization of labeled data sampling in each process.\n",
    "random.seed(cfg.seed)\n",
    "torch.manual_seed(cfg.seed)\n",
    "np.random.seed(cfg.seed)\n",
    "cudnn.deterministic = True"
   ]
  },
  {
   "cell_type": "code",
   "execution_count": null,
   "id": "5999423b",
   "metadata": {},
   "outputs": [],
   "source": [
    "# SET save_path and logger\n",
    "save_path = os.path.join(cfg.save_dir, cfg.save_name)\n",
    "tb_log = TBLog(save_path, \"\")\n",
    "logger_level = \"INFO\"\n",
    "\n",
    "logger = get_logger(cfg.save_name, save_path, logger_level)"
   ]
  },
  {
   "cell_type": "code",
   "execution_count": null,
   "id": "95432c53",
   "metadata": {},
   "outputs": [],
   "source": [
    "# Construct Dataset\n",
    "train_dset = SSL_Dataset(\n",
    "    name=cfg.dataset, train=True, data_dir=cfg.data_dir, seed=cfg.seed,\n",
    ")\n",
    "lb_dset, ulb_dset = train_dset.get_ssl_dset(cfg.num_labels)"
   ]
  },
  {
   "cell_type": "code",
   "execution_count": null,
   "id": "e55e2588",
   "metadata": {},
   "outputs": [],
   "source": [
    "cfg.num_classes = train_dset.num_classes\n",
    "cfg.num_channels = train_dset.num_channels\n",
    "\n",
    "_eval_dset = SSL_Dataset(\n",
    "    name=cfg.dataset, train=False, data_dir=cfg.data_dir, seed=cfg.seed,\n",
    ")\n",
    "eval_dset = _eval_dset.get_dset()"
   ]
  },
  {
   "cell_type": "code",
   "execution_count": null,
   "id": "32a3356a",
   "metadata": {},
   "outputs": [],
   "source": [
    "cfg.bn_momentum = 1.0 - cfg.ema_m\n",
    "_net_builder = net_builder(\n",
    "    cfg.net,\n",
    "    pretrained=cfg.pretrained,\n",
    "    in_channels=cfg.num_channels,\n",
    ")"
   ]
  },
  {
   "cell_type": "code",
   "execution_count": null,
   "id": "e8769639",
   "metadata": {},
   "outputs": [],
   "source": [
    "model = FixMatch(\n",
    "        _net_builder,\n",
    "        cfg.num_classes,\n",
    "        cfg.num_channels,\n",
    "        cfg.ema_m,\n",
    "        cfg.T,\n",
    "        cfg.p_cutoff,\n",
    "        cfg.ulb_loss_ratio,\n",
    "        cfg.hard_label,\n",
    "        num_eval_iter=cfg.num_eval_iter,\n",
    "        tb_log=tb_log,\n",
    "        logger=logger,\n",
    "    )"
   ]
  },
  {
   "cell_type": "code",
   "execution_count": null,
   "id": "bef9a30a",
   "metadata": {},
   "outputs": [],
   "source": [
    "logger.info(f\"Number of Trainable Params: {count_parameters(model.train_model)}\")"
   ]
  },
  {
   "cell_type": "code",
   "execution_count": null,
   "id": "13405e8c",
   "metadata": {},
   "outputs": [],
   "source": [
    "cfg.num_train_iter = 64"
   ]
  },
  {
   "cell_type": "code",
   "execution_count": null,
   "id": "90d0b8f0",
   "metadata": {},
   "outputs": [],
   "source": [
    "optimizer = get_OPT(\n",
    "    model.train_model, cfg.opt, cfg.lr, cfg.momentum, cfg.weight_decay\n",
    ")\n",
    "scheduler = get_cosine_schedule_with_warmup(\n",
    "    optimizer, cfg.num_train_iter, num_warmup_steps=cfg.num_train_iter * 0\n",
    ")"
   ]
  },
  {
   "cell_type": "code",
   "execution_count": null,
   "id": "40884451",
   "metadata": {},
   "outputs": [],
   "source": [
    "model.set_optimizer(optimizer, scheduler)"
   ]
  },
  {
   "cell_type": "code",
   "execution_count": null,
   "id": "f1afcb63",
   "metadata": {},
   "outputs": [],
   "source": [
    "if torch.cuda.is_available():\n",
    "        torch.cuda.set_device(cfg.gpu)\n",
    "        model.train_model = model.train_model.cuda(cfg.gpu)\n",
    "        model.eval_model = model.eval_model.cuda(cfg.gpu)"
   ]
  },
  {
   "cell_type": "code",
   "execution_count": null,
   "id": "6a127bc0",
   "metadata": {},
   "outputs": [],
   "source": [
    "logger.info(f\"model_arch: {model}\")\n",
    "logger.info(f\"Arguments: {cfg}\")"
   ]
  },
  {
   "cell_type": "code",
   "execution_count": null,
   "id": "d0a53eb5",
   "metadata": {},
   "outputs": [],
   "source": [
    "cudnn.benchmark = True"
   ]
  },
  {
   "cell_type": "code",
   "execution_count": null,
   "id": "d6028243",
   "metadata": {},
   "outputs": [],
   "source": [
    "# Construct data loader\n",
    "loader_dict = {}\n",
    "dset_dict = {\"train_lb\": lb_dset, \"train_ulb\": ulb_dset, \"eval\": eval_dset}\n",
    "\n",
    "loader_dict[\"train_lb\"] = get_data_loader(\n",
    "    dset_dict[\"train_lb\"],\n",
    "    cfg.batch_size,\n",
    "    data_sampler=cfg.train_sampler,\n",
    "    num_iters=cfg.num_train_iter,\n",
    "    num_workers=cfg.num_workers,\n",
    "    distributed=cfg.distributed,\n",
    ")\n",
    "\n",
    "loader_dict[\"train_ulb\"] = get_data_loader(\n",
    "    dset_dict[\"train_ulb\"],\n",
    "    cfg.batch_size * cfg.uratio,\n",
    "    data_sampler=cfg.train_sampler,\n",
    "    num_iters=cfg.num_train_iter,\n",
    "    num_workers=4 * cfg.num_workers,\n",
    "    distributed=cfg.distributed,\n",
    ")\n",
    "\n",
    "loader_dict[\"eval\"] = get_data_loader(\n",
    "    dset_dict[\"eval\"], cfg.eval_batch_size, num_workers=cfg.num_workers\n",
    ")"
   ]
  },
  {
   "cell_type": "code",
   "execution_count": null,
   "id": "c750c705",
   "metadata": {},
   "outputs": [],
   "source": []
  }
 ],
 "metadata": {
  "kernelspec": {
   "display_name": "Python 3 (ipykernel)",
   "language": "python",
   "name": "python3"
  },
  "language_info": {
   "codemirror_mode": {
    "name": "ipython",
    "version": 3
   },
   "file_extension": ".py",
   "mimetype": "text/x-python",
   "name": "python",
   "nbconvert_exporter": "python",
   "pygments_lexer": "ipython3",
   "version": "3.8.13"
  }
 },
 "nbformat": 4,
 "nbformat_minor": 5
}
